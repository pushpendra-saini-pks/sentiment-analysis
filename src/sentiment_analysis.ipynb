{
 "cells": [
  {
   "cell_type": "markdown",
   "metadata": {},
   "source": [
    "# Sentiment analysis : Model Training and Prediction \n",
    "\n",
    "Here we will walk through the process of training sentiment analysis models for different sources and making predictions."
   ]
  },
  {
   "cell_type": "code",
   "execution_count": null,
   "metadata": {},
   "outputs": [],
   "source": [
    "# import neccessary libraries\n",
    "import pandas as pd \n",
    "import numpy as np\n",
    "from sklearn.feature_extraction.text import TfidfVectorizer \n",
    "from sklearn.metrics import classification_report\n",
    "from sklearn.svm import LinearSVC\n",
    "from sklearn.ensemble import RandomForestClassifier\n",
    "from sklearn.tree import DecisionTreeClassifier\n",
    "from sklearn.neighbors import KNeighborsClassifier\n",
    "import re \n",
    "import nltk\n",
    "from nltk.tokenize import word_tokenize \n",
    "from nltk.corpus import stopwords"
   ]
  },
  {
   "cell_type": "code",
   "execution_count": 2,
   "metadata": {},
   "outputs": [
    {
     "name": "stderr",
     "output_type": "stream",
     "text": [
      "[nltk_data] Downloading package punkt to\n",
      "[nltk_data]     C:\\Users\\pkkar\\AppData\\Roaming\\nltk_data...\n",
      "[nltk_data]   Package punkt is already up-to-date!\n",
      "[nltk_data] Downloading package stopwords to\n",
      "[nltk_data]     C:\\Users\\pkkar\\AppData\\Roaming\\nltk_data...\n",
      "[nltk_data]   Package stopwords is already up-to-date!\n",
      "[nltk_data] Downloading package punkt_tab to\n",
      "[nltk_data]     C:\\Users\\pkkar\\AppData\\Roaming\\nltk_data...\n",
      "[nltk_data]   Package punkt_tab is already up-to-date!\n"
     ]
    },
    {
     "data": {
      "text/plain": [
       "True"
      ]
     },
     "execution_count": 2,
     "metadata": {},
     "output_type": "execute_result"
    }
   ],
   "source": [
    "nltk.download('punkt')\n",
    "nltk.download('stopwords')\n",
    "nltk.download('punkt_tab')"
   ]
  },
  {
   "cell_type": "code",
   "execution_count": 3,
   "metadata": {},
   "outputs": [],
   "source": [
    "train_data= pd.read_csv(\"C:/sentiment analysis/data/twitter_training.csv\",names=['serial_number','source','sentiment','text'])\n",
    "val_data= pd.read_csv(\"C:/sentiment analysis/data/twitter_validation.csv\",names=['serial_number','source','sentiment','text'])"
   ]
  },
  {
   "cell_type": "code",
   "execution_count": 4,
   "metadata": {},
   "outputs": [
    {
     "name": "stdout",
     "output_type": "stream",
     "text": [
      "Training data shape:(74682, 4)\n",
      "Validation data shape: (1000, 4)\n",
      "\n",
      "Training data sample:\n"
     ]
    },
    {
     "data": {
      "text/html": [
       "<div>\n",
       "<style scoped>\n",
       "    .dataframe tbody tr th:only-of-type {\n",
       "        vertical-align: middle;\n",
       "    }\n",
       "\n",
       "    .dataframe tbody tr th {\n",
       "        vertical-align: top;\n",
       "    }\n",
       "\n",
       "    .dataframe thead th {\n",
       "        text-align: right;\n",
       "    }\n",
       "</style>\n",
       "<table border=\"1\" class=\"dataframe\">\n",
       "  <thead>\n",
       "    <tr style=\"text-align: right;\">\n",
       "      <th></th>\n",
       "      <th>serial_number</th>\n",
       "      <th>source</th>\n",
       "      <th>sentiment</th>\n",
       "      <th>text</th>\n",
       "    </tr>\n",
       "  </thead>\n",
       "  <tbody>\n",
       "    <tr>\n",
       "      <th>0</th>\n",
       "      <td>2401</td>\n",
       "      <td>Borderlands</td>\n",
       "      <td>Positive</td>\n",
       "      <td>im getting on borderlands and i will murder yo...</td>\n",
       "    </tr>\n",
       "    <tr>\n",
       "      <th>1</th>\n",
       "      <td>2401</td>\n",
       "      <td>Borderlands</td>\n",
       "      <td>Positive</td>\n",
       "      <td>I am coming to the borders and I will kill you...</td>\n",
       "    </tr>\n",
       "    <tr>\n",
       "      <th>2</th>\n",
       "      <td>2401</td>\n",
       "      <td>Borderlands</td>\n",
       "      <td>Positive</td>\n",
       "      <td>im getting on borderlands and i will kill you ...</td>\n",
       "    </tr>\n",
       "    <tr>\n",
       "      <th>3</th>\n",
       "      <td>2401</td>\n",
       "      <td>Borderlands</td>\n",
       "      <td>Positive</td>\n",
       "      <td>im coming on borderlands and i will murder you...</td>\n",
       "    </tr>\n",
       "    <tr>\n",
       "      <th>4</th>\n",
       "      <td>2401</td>\n",
       "      <td>Borderlands</td>\n",
       "      <td>Positive</td>\n",
       "      <td>im getting on borderlands 2 and i will murder ...</td>\n",
       "    </tr>\n",
       "  </tbody>\n",
       "</table>\n",
       "</div>"
      ],
      "text/plain": [
       "   serial_number       source sentiment  \\\n",
       "0           2401  Borderlands  Positive   \n",
       "1           2401  Borderlands  Positive   \n",
       "2           2401  Borderlands  Positive   \n",
       "3           2401  Borderlands  Positive   \n",
       "4           2401  Borderlands  Positive   \n",
       "\n",
       "                                                text  \n",
       "0  im getting on borderlands and i will murder yo...  \n",
       "1  I am coming to the borders and I will kill you...  \n",
       "2  im getting on borderlands and i will kill you ...  \n",
       "3  im coming on borderlands and i will murder you...  \n",
       "4  im getting on borderlands 2 and i will murder ...  "
      ]
     },
     "metadata": {},
     "output_type": "display_data"
    }
   ],
   "source": [
    "print(f\"Training data shape:{train_data.shape}\")\n",
    "print(f\"Validation data shape: {val_data.shape}\")\n",
    "print(f\"\\nTraining data sample:\")\n",
    "display(train_data.head())"
   ]
  },
  {
   "cell_type": "code",
   "execution_count": 5,
   "metadata": {},
   "outputs": [
    {
     "data": {
      "text/plain": [
       "sentiment\n",
       "Negative      22542\n",
       "Positive      20832\n",
       "Neutral       18318\n",
       "Irrelevant    12990\n",
       "Name: count, dtype: int64"
      ]
     },
     "execution_count": 5,
     "metadata": {},
     "output_type": "execute_result"
    }
   ],
   "source": [
    "train_data['sentiment'].value_counts()"
   ]
  },
  {
   "cell_type": "code",
   "execution_count": 6,
   "metadata": {},
   "outputs": [],
   "source": [
    "def preprocess_text(text):\n",
    "    text=str(text).lower()\n",
    "    text=re.sub(r'[^a-zA-Z\\s]','',text)\n",
    "    tokens = word_tokenize(text)\n",
    "    stop_words = set(stopwords.words('english'))\n",
    "    tokens = [token for token in tokens if token not in stop_words]\n",
    "    return ' '.join(tokens)\n",
    "    \n",
    "    "
   ]
  },
  {
   "cell_type": "code",
   "execution_count": 7,
   "metadata": {},
   "outputs": [],
   "source": [
    "train_data['processed_text'] = train_data['text'].apply(preprocess_text)"
   ]
  },
  {
   "cell_type": "code",
   "execution_count": 8,
   "metadata": {},
   "outputs": [
    {
     "data": {
      "text/html": [
       "<div>\n",
       "<style scoped>\n",
       "    .dataframe tbody tr th:only-of-type {\n",
       "        vertical-align: middle;\n",
       "    }\n",
       "\n",
       "    .dataframe tbody tr th {\n",
       "        vertical-align: top;\n",
       "    }\n",
       "\n",
       "    .dataframe thead th {\n",
       "        text-align: right;\n",
       "    }\n",
       "</style>\n",
       "<table border=\"1\" class=\"dataframe\">\n",
       "  <thead>\n",
       "    <tr style=\"text-align: right;\">\n",
       "      <th></th>\n",
       "      <th>text</th>\n",
       "      <th>processed_text</th>\n",
       "    </tr>\n",
       "  </thead>\n",
       "  <tbody>\n",
       "    <tr>\n",
       "      <th>0</th>\n",
       "      <td>im getting on borderlands and i will murder yo...</td>\n",
       "      <td>im getting borderlands murder</td>\n",
       "    </tr>\n",
       "    <tr>\n",
       "      <th>1</th>\n",
       "      <td>I am coming to the borders and I will kill you...</td>\n",
       "      <td>coming borders kill</td>\n",
       "    </tr>\n",
       "    <tr>\n",
       "      <th>2</th>\n",
       "      <td>im getting on borderlands and i will kill you ...</td>\n",
       "      <td>im getting borderlands kill</td>\n",
       "    </tr>\n",
       "    <tr>\n",
       "      <th>3</th>\n",
       "      <td>im coming on borderlands and i will murder you...</td>\n",
       "      <td>im coming borderlands murder</td>\n",
       "    </tr>\n",
       "    <tr>\n",
       "      <th>4</th>\n",
       "      <td>im getting on borderlands 2 and i will murder ...</td>\n",
       "      <td>im getting borderlands murder</td>\n",
       "    </tr>\n",
       "    <tr>\n",
       "      <th>...</th>\n",
       "      <td>...</td>\n",
       "      <td>...</td>\n",
       "    </tr>\n",
       "    <tr>\n",
       "      <th>74677</th>\n",
       "      <td>Just realized that the Windows partition of my...</td>\n",
       "      <td>realized windows partition mac like years behi...</td>\n",
       "    </tr>\n",
       "    <tr>\n",
       "      <th>74678</th>\n",
       "      <td>Just realized that my Mac window partition is ...</td>\n",
       "      <td>realized mac window partition years behind nvi...</td>\n",
       "    </tr>\n",
       "    <tr>\n",
       "      <th>74679</th>\n",
       "      <td>Just realized the windows partition of my Mac ...</td>\n",
       "      <td>realized windows partition mac years behind nv...</td>\n",
       "    </tr>\n",
       "    <tr>\n",
       "      <th>74680</th>\n",
       "      <td>Just realized between the windows partition of...</td>\n",
       "      <td>realized windows partition mac like years behi...</td>\n",
       "    </tr>\n",
       "    <tr>\n",
       "      <th>74681</th>\n",
       "      <td>Just like the windows partition of my Mac is l...</td>\n",
       "      <td>like windows partition mac like years behind d...</td>\n",
       "    </tr>\n",
       "  </tbody>\n",
       "</table>\n",
       "<p>74682 rows × 2 columns</p>\n",
       "</div>"
      ],
      "text/plain": [
       "                                                    text  \\\n",
       "0      im getting on borderlands and i will murder yo...   \n",
       "1      I am coming to the borders and I will kill you...   \n",
       "2      im getting on borderlands and i will kill you ...   \n",
       "3      im coming on borderlands and i will murder you...   \n",
       "4      im getting on borderlands 2 and i will murder ...   \n",
       "...                                                  ...   \n",
       "74677  Just realized that the Windows partition of my...   \n",
       "74678  Just realized that my Mac window partition is ...   \n",
       "74679  Just realized the windows partition of my Mac ...   \n",
       "74680  Just realized between the windows partition of...   \n",
       "74681  Just like the windows partition of my Mac is l...   \n",
       "\n",
       "                                          processed_text  \n",
       "0                          im getting borderlands murder  \n",
       "1                                    coming borders kill  \n",
       "2                            im getting borderlands kill  \n",
       "3                           im coming borderlands murder  \n",
       "4                          im getting borderlands murder  \n",
       "...                                                  ...  \n",
       "74677  realized windows partition mac like years behi...  \n",
       "74678  realized mac window partition years behind nvi...  \n",
       "74679  realized windows partition mac years behind nv...  \n",
       "74680  realized windows partition mac like years behi...  \n",
       "74681  like windows partition mac like years behind d...  \n",
       "\n",
       "[74682 rows x 2 columns]"
      ]
     },
     "metadata": {},
     "output_type": "display_data"
    }
   ],
   "source": [
    "display(train_data[['text','processed_text']])"
   ]
  },
  {
   "cell_type": "code",
   "execution_count": 9,
   "metadata": {},
   "outputs": [
    {
     "data": {
      "text/html": [
       "<div>\n",
       "<style scoped>\n",
       "    .dataframe tbody tr th:only-of-type {\n",
       "        vertical-align: middle;\n",
       "    }\n",
       "\n",
       "    .dataframe tbody tr th {\n",
       "        vertical-align: top;\n",
       "    }\n",
       "\n",
       "    .dataframe thead th {\n",
       "        text-align: right;\n",
       "    }\n",
       "</style>\n",
       "<table border=\"1\" class=\"dataframe\">\n",
       "  <thead>\n",
       "    <tr style=\"text-align: right;\">\n",
       "      <th></th>\n",
       "      <th>text</th>\n",
       "      <th>processed_text</th>\n",
       "    </tr>\n",
       "  </thead>\n",
       "  <tbody>\n",
       "    <tr>\n",
       "      <th>0</th>\n",
       "      <td>I mentioned on Facebook that I was struggling ...</td>\n",
       "      <td>mentioned facebook struggling motivation go ru...</td>\n",
       "    </tr>\n",
       "    <tr>\n",
       "      <th>1</th>\n",
       "      <td>BBC News - Amazon boss Jeff Bezos rejects clai...</td>\n",
       "      <td>bbc news amazon boss jeff bezos rejects claims...</td>\n",
       "    </tr>\n",
       "    <tr>\n",
       "      <th>2</th>\n",
       "      <td>@Microsoft Why do I pay for WORD when it funct...</td>\n",
       "      <td>microsoft pay word functions poorly samsungus ...</td>\n",
       "    </tr>\n",
       "    <tr>\n",
       "      <th>3</th>\n",
       "      <td>CSGO matchmaking is so full of closet hacking,...</td>\n",
       "      <td>csgo matchmaking full closet hacking truly awf...</td>\n",
       "    </tr>\n",
       "    <tr>\n",
       "      <th>4</th>\n",
       "      <td>Now the President is slapping Americans in the...</td>\n",
       "      <td>president slapping americans face really commi...</td>\n",
       "    </tr>\n",
       "  </tbody>\n",
       "</table>\n",
       "</div>"
      ],
      "text/plain": [
       "                                                text  \\\n",
       "0  I mentioned on Facebook that I was struggling ...   \n",
       "1  BBC News - Amazon boss Jeff Bezos rejects clai...   \n",
       "2  @Microsoft Why do I pay for WORD when it funct...   \n",
       "3  CSGO matchmaking is so full of closet hacking,...   \n",
       "4  Now the President is slapping Americans in the...   \n",
       "\n",
       "                                      processed_text  \n",
       "0  mentioned facebook struggling motivation go ru...  \n",
       "1  bbc news amazon boss jeff bezos rejects claims...  \n",
       "2  microsoft pay word functions poorly samsungus ...  \n",
       "3  csgo matchmaking full closet hacking truly awf...  \n",
       "4  president slapping americans face really commi...  "
      ]
     },
     "metadata": {},
     "output_type": "display_data"
    }
   ],
   "source": [
    "val_data['processed_text'] = val_data['text'].apply(preprocess_text)\n",
    "display(val_data[['text','processed_text']].head())"
   ]
  },
  {
   "cell_type": "code",
   "execution_count": 10,
   "metadata": {},
   "outputs": [],
   "source": [
    "import os "
   ]
  },
  {
   "cell_type": "code",
   "execution_count": 11,
   "metadata": {},
   "outputs": [
    {
     "name": "stdout",
     "output_type": "stream",
     "text": [
      "Requirement already satisfied: joblib in c:\\users\\pkkar\\anaconda3\\envs\\tenv\\lib\\site-packages (1.4.2)\n"
     ]
    }
   ],
   "source": [
    "! pip install joblib"
   ]
  },
  {
   "cell_type": "code",
   "execution_count": 12,
   "metadata": {},
   "outputs": [],
   "source": [
    "import joblib"
   ]
  },
  {
   "cell_type": "markdown",
   "metadata": {},
   "source": [
    "## Model 1 (Linear support vector classifier)"
   ]
  },
  {
   "cell_type": "code",
   "execution_count": 13,
   "metadata": {},
   "outputs": [
    {
     "name": "stdout",
     "output_type": "stream",
     "text": [
      "training model for source: Borderlands\n",
      "training model for source: CallOfDutyBlackopsColdWar\n",
      "training model for source: Amazon\n",
      "training model for source: Overwatch\n",
      "training model for source: Xbox(Xseries)\n",
      "training model for source: NBA2K\n",
      "training model for source: Dota2\n",
      "training model for source: PlayStation5(PS5)\n",
      "training model for source: WorldOfCraft\n",
      "training model for source: CS-GO\n",
      "training model for source: Google\n",
      "training model for source: AssassinsCreed\n",
      "training model for source: ApexLegends\n",
      "training model for source: LeagueOfLegends\n",
      "training model for source: Fortnite\n",
      "training model for source: Microsoft\n",
      "training model for source: Hearthstone\n",
      "training model for source: Battlefield\n",
      "training model for source: PlayerUnknownsBattlegrounds(PUBG)\n",
      "training model for source: Verizon\n",
      "training model for source: HomeDepot\n",
      "training model for source: FIFA\n",
      "training model for source: RedDeadRedemption(RDR)\n",
      "training model for source: CallOfDuty\n",
      "training model for source: TomClancysRainbowSix\n",
      "training model for source: Facebook\n",
      "training model for source: GrandTheftAuto(GTA)\n",
      "training model for source: MaddenNFL\n",
      "training model for source: johnson&johnson\n",
      "training model for source: Cyberpunk2077\n",
      "training model for source: TomClancysGhostRecon\n",
      "training model for source: Nvidia\n",
      "training completed models saved in 'models' directory \n"
     ]
    }
   ],
   "source": [
    "def train_source_model(source_data):\n",
    "    x= source_data['processed_text']\n",
    "    y= source_data['sentiment']\n",
    "    \n",
    "    \n",
    "    tfidf_vectorizer = TfidfVectorizer(max_features=5000)\n",
    "    x=tfidf_vectorizer.fit_transform(x)\n",
    "    \n",
    "    model = LinearSVC()\n",
    "    model.fit(x,y)\n",
    "    \n",
    "    return model , tfidf_vectorizer\n",
    "\n",
    "# train models for each source \n",
    "sources = train_data['source'].unique()\n",
    "\n",
    "if not os.path.exists('models'):\n",
    "    os.makedirs('models')\n",
    "    \n",
    "    \n",
    "for source in sources :\n",
    "    print(f\"training model for source: {source}\")\n",
    "    source_data = train_data[train_data['source']== source]\n",
    "    model , vectorizer = train_source_model(source_data)\n",
    "    \n",
    "    \n",
    "    # save the model and vectorizer \n",
    "    joblib.dump(model,f'models/{source}_model.joblib')\n",
    "    joblib.dump(vectorizer,f'models/{source}_vectorizer.joblib')\n",
    "    \n",
    "    \n",
    "    \n",
    "    \n",
    "print(\"training completed models saved in 'models' directory \")\n",
    "    \n",
    "    "
   ]
  },
  {
   "cell_type": "code",
   "execution_count": 14,
   "metadata": {},
   "outputs": [
    {
     "name": "stdout",
     "output_type": "stream",
     "text": [
      "              precision    recall  f1-score   support\n",
      "\n",
      "  Irrelevant       0.99      0.98      0.99       172\n",
      "    Negative       0.98      0.98      0.98       266\n",
      "     Neutral       0.99      0.99      0.99       285\n",
      "    Positive       0.98      0.98      0.98       277\n",
      "\n",
      "    accuracy                           0.99      1000\n",
      "   macro avg       0.99      0.99      0.99      1000\n",
      "weighted avg       0.99      0.99      0.99      1000\n",
      "\n"
     ]
    }
   ],
   "source": [
    "def predict_sentiment(text,source):\n",
    "    model = joblib.load(f'models/{source}_model.joblib')\n",
    "    vectorizer = joblib.load(f'models/{source}_vectorizer.joblib')\n",
    "    processed_text  = preprocess_text(text)\n",
    "    vectorized_text = vectorizer.transform([processed_text])\n",
    "    prediction = model.predict(vectorized_text)[0]\n",
    "    return prediction \n",
    "\n",
    "\n",
    "# Evaluate on validation set \n",
    "val_predictions = []\n",
    "for _ , row in val_data.iterrows():\n",
    "    pred = predict_sentiment(row['text'],row['source'])\n",
    "    val_predictions.append(pred)\n",
    "    \n",
    "    \n",
    "# print classification report \n",
    "print(classification_report(val_data['sentiment'],val_predictions ))"
   ]
  },
  {
   "cell_type": "code",
   "execution_count": 15,
   "metadata": {},
   "outputs": [
    {
     "name": "stdout",
     "output_type": "stream",
     "text": [
      "0.986\n"
     ]
    }
   ],
   "source": [
    "from sklearn.metrics import accuracy_score \n",
    "print (accuracy_score(val_data['sentiment'],val_predictions))"
   ]
  },
  {
   "cell_type": "code",
   "execution_count": 16,
   "metadata": {},
   "outputs": [
    {
     "name": "stdout",
     "output_type": "stream",
     "text": [
      "Requirement already satisfied: seaborn in c:\\users\\pkkar\\anaconda3\\envs\\tenv\\lib\\site-packages (0.13.2)\n",
      "Requirement already satisfied: numpy!=1.24.0,>=1.20 in c:\\users\\pkkar\\anaconda3\\envs\\tenv\\lib\\site-packages (from seaborn) (2.1.1)\n",
      "Requirement already satisfied: pandas>=1.2 in c:\\users\\pkkar\\anaconda3\\envs\\tenv\\lib\\site-packages (from seaborn) (2.2.3)\n",
      "Requirement already satisfied: matplotlib!=3.6.1,>=3.4 in c:\\users\\pkkar\\anaconda3\\envs\\tenv\\lib\\site-packages (from seaborn) (3.9.2)\n",
      "Requirement already satisfied: contourpy>=1.0.1 in c:\\users\\pkkar\\anaconda3\\envs\\tenv\\lib\\site-packages (from matplotlib!=3.6.1,>=3.4->seaborn) (1.3.1)\n",
      "Requirement already satisfied: cycler>=0.10 in c:\\users\\pkkar\\anaconda3\\envs\\tenv\\lib\\site-packages (from matplotlib!=3.6.1,>=3.4->seaborn) (0.12.1)\n",
      "Requirement already satisfied: fonttools>=4.22.0 in c:\\users\\pkkar\\anaconda3\\envs\\tenv\\lib\\site-packages (from matplotlib!=3.6.1,>=3.4->seaborn) (4.54.1)\n",
      "Requirement already satisfied: kiwisolver>=1.3.1 in c:\\users\\pkkar\\anaconda3\\envs\\tenv\\lib\\site-packages (from matplotlib!=3.6.1,>=3.4->seaborn) (1.4.7)\n",
      "Requirement already satisfied: packaging>=20.0 in c:\\users\\pkkar\\anaconda3\\envs\\tenv\\lib\\site-packages (from matplotlib!=3.6.1,>=3.4->seaborn) (24.1)\n",
      "Requirement already satisfied: pillow>=8 in c:\\users\\pkkar\\anaconda3\\envs\\tenv\\lib\\site-packages (from matplotlib!=3.6.1,>=3.4->seaborn) (10.4.0)\n",
      "Requirement already satisfied: pyparsing>=2.3.1 in c:\\users\\pkkar\\anaconda3\\envs\\tenv\\lib\\site-packages (from matplotlib!=3.6.1,>=3.4->seaborn) (3.2.0)\n",
      "Requirement already satisfied: python-dateutil>=2.7 in c:\\users\\pkkar\\anaconda3\\envs\\tenv\\lib\\site-packages (from matplotlib!=3.6.1,>=3.4->seaborn) (2.9.0)\n",
      "Requirement already satisfied: pytz>=2020.1 in c:\\users\\pkkar\\anaconda3\\envs\\tenv\\lib\\site-packages (from pandas>=1.2->seaborn) (2024.2)\n",
      "Requirement already satisfied: tzdata>=2022.7 in c:\\users\\pkkar\\anaconda3\\envs\\tenv\\lib\\site-packages (from pandas>=1.2->seaborn) (2024.2)\n",
      "Requirement already satisfied: six>=1.5 in c:\\users\\pkkar\\anaconda3\\envs\\tenv\\lib\\site-packages (from python-dateutil>=2.7->matplotlib!=3.6.1,>=3.4->seaborn) (1.16.0)\n"
     ]
    }
   ],
   "source": [
    "! pip install seaborn "
   ]
  },
  {
   "cell_type": "code",
   "execution_count": 36,
   "metadata": {},
   "outputs": [
    {
     "data": {
      "image/png": "[encoded data removed]",
      "text/plain": [
       "<Figure size 640x480 with 2 Axes>"
      ]
     },
     "metadata": {},
     "output_type": "display_data"
    }
   ],
   "source": [
    "from sklearn.metrics import confusion_matrix\n",
    "import seaborn as sns\n",
    "import matplotlib.pyplot as plt \n",
    "cm = confusion_matrix(val_data['sentiment'],val_predictions)\n",
    "sns.heatmap(cm,annot=True)\n",
    "plt.title(\"confusion matrix\")\n",
    "plt.xlabel(\"actual value\")\n",
    "plt.ylabel(\"predicted value\")\n",
    "plt.show()"
   ]
  },
  {
   "cell_type": "code",
   "execution_count": 18,
   "metadata": {},
   "outputs": [
    {
     "name": "stdout",
     "output_type": "stream",
     "text": [
      "Text:'I love playing Borderlands! Can't wait to kill some skags!'\n",
      "Source: Borderlands\n",
      "Pridicted sentiment : Positive\n",
      "\n",
      "Text:'This new graphics card is amazing!'\n",
      "Source: Nvidia\n",
      "Pridicted sentiment : Positive\n",
      "\n",
      "Text:'Facebook's new privacy policy is concerning.'\n",
      "Source: Facebook\n",
      "Pridicted sentiment : Neutral\n",
      "\n",
      "Text:'The latest Windows update broke my computer.'\n",
      "Source: Microsoft\n",
      "Pridicted sentiment : Negative\n",
      "\n"
     ]
    }
   ],
   "source": [
    "sample_texts = [\n",
    "    (\"I love playing Borderlands! Can't wait to kill some skags!\", \"Borderlands\"),\n",
    "    (\"This new graphics card is amazing!\",\"Nvidia\"),\n",
    "    (\"Facebook's new privacy policy is concerning.\",\"Facebook\"),\n",
    "    (\"The latest Windows update broke my computer.\",\"Microsoft\")\n",
    "]\n",
    "\n",
    "\n",
    "for text , source in sample_texts:\n",
    "    try:\n",
    "        sentiment = predict_sentiment(text,source)\n",
    "        print(f\"Text:'{text}'\")\n",
    "        print(f\"Source: {source}\")\n",
    "        print(f\"Pridicted sentiment : {sentiment}\\n\")\n",
    "    except FileNotFoundError as e : \n",
    "        print(e)\n",
    "        print(f\"Text: '{text}'\")\n",
    "        print(f\"Source: {source}\")\n",
    "        print(f\"Pridicted sentiment : Unable to predict (model not found )\\n\")\n",
    "        \n",
    "    "
   ]
  },
  {
   "cell_type": "code",
   "execution_count": 19,
   "metadata": {},
   "outputs": [
    {
     "name": "stdout",
     "output_type": "stream",
     "text": [
      "\n",
      "Class Distribution in Validation Set:\n",
      "sentiment\n",
      "Neutral       285\n",
      "Positive      277\n",
      "Negative      266\n",
      "Irrelevant    172\n",
      "Name: count, dtype: int64\n"
     ]
    }
   ],
   "source": [
    "# Print class distribution\n",
    "print(\"\\nClass Distribution in Validation Set:\")\n",
    "print(val_data['sentiment'].value_counts())\n",
    "\n"
   ]
  },
  {
   "cell_type": "markdown",
   "metadata": {},
   "source": [
    "## Model 2 (Random forest classifier)"
   ]
  },
  {
   "cell_type": "code",
   "execution_count": 20,
   "metadata": {},
   "outputs": [
    {
     "name": "stdout",
     "output_type": "stream",
     "text": [
      "training model for source: Borderlands\n",
      "training model for source: CallOfDutyBlackopsColdWar\n",
      "training model for source: Amazon\n",
      "training model for source: Overwatch\n",
      "training model for source: Xbox(Xseries)\n",
      "training model for source: NBA2K\n",
      "training model for source: Dota2\n",
      "training model for source: PlayStation5(PS5)\n",
      "training model for source: WorldOfCraft\n",
      "training model for source: CS-GO\n",
      "training model for source: Google\n",
      "training model for source: AssassinsCreed\n",
      "training model for source: ApexLegends\n",
      "training model for source: LeagueOfLegends\n",
      "training model for source: Fortnite\n",
      "training model for source: Microsoft\n",
      "training model for source: Hearthstone\n",
      "training model for source: Battlefield\n",
      "training model for source: PlayerUnknownsBattlegrounds(PUBG)\n",
      "training model for source: Verizon\n",
      "training model for source: HomeDepot\n",
      "training model for source: FIFA\n",
      "training model for source: RedDeadRedemption(RDR)\n",
      "training model for source: CallOfDuty\n",
      "training model for source: TomClancysRainbowSix\n",
      "training model for source: Facebook\n",
      "training model for source: GrandTheftAuto(GTA)\n",
      "training model for source: MaddenNFL\n",
      "training model for source: johnson&johnson\n",
      "training model for source: Cyberpunk2077\n",
      "training model for source: TomClancysGhostRecon\n",
      "training model for source: Nvidia\n",
      "training completed models saved in 'models2' directory \n"
     ]
    }
   ],
   "source": [
    "def train_source_model(source_data):\n",
    "    x= source_data['processed_text']\n",
    "    y= source_data['sentiment']\n",
    "    \n",
    "    \n",
    "    tfidf_vectorizer = TfidfVectorizer(max_features=5000)\n",
    "    x=tfidf_vectorizer.fit_transform(x)\n",
    "    \n",
    "    model2 = RandomForestClassifier()\n",
    "    model2.fit(x,y)\n",
    "    \n",
    "    return model2 , tfidf_vectorizer\n",
    "\n",
    "# train models for each source \n",
    "sources = train_data['source'].unique()\n",
    "\n",
    "if not os.path.exists('models2'):\n",
    "    os.makedirs('models2')\n",
    "    \n",
    "    \n",
    "for source in sources :\n",
    "    print(f\"training model for source: {source}\")\n",
    "    source_data = train_data[train_data['source']== source]\n",
    "    model , vectorizer = train_source_model(source_data)\n",
    "    \n",
    "    \n",
    "    # save the model and vectorizer \n",
    "    joblib.dump(model,f'models2/{source}_model.joblib')\n",
    "    joblib.dump(vectorizer,f'models2/{source}_vectorizer.joblib')\n",
    "    \n",
    "    \n",
    "    \n",
    "    \n",
    "print(\"training completed models saved in 'models2' directory \")"
   ]
  },
  {
   "cell_type": "code",
   "execution_count": 21,
   "metadata": {},
   "outputs": [
    {
     "name": "stdout",
     "output_type": "stream",
     "text": [
      "              precision    recall  f1-score   support\n",
      "\n",
      "  Irrelevant       0.98      0.96      0.97       172\n",
      "    Negative       0.95      0.98      0.96       266\n",
      "     Neutral       0.98      0.95      0.97       285\n",
      "    Positive       0.97      0.97      0.97       277\n",
      "\n",
      "    accuracy                           0.97      1000\n",
      "   macro avg       0.97      0.97      0.97      1000\n",
      "weighted avg       0.97      0.97      0.97      1000\n",
      "\n",
      "accuracy_of_model2 : 0.967\n"
     ]
    }
   ],
   "source": [
    "def predict_sentiment(text,source):\n",
    "    model = joblib.load(f'models2/{source}_model.joblib')\n",
    "    vectorizer = joblib.load(f'models2/{source}_vectorizer.joblib')\n",
    "    processed_text  = preprocess_text(text)\n",
    "    vectorized_text = vectorizer.transform([processed_text])\n",
    "    prediction = model.predict(vectorized_text)[0]\n",
    "    return prediction \n",
    "\n",
    "\n",
    "# Evaluate on validation set \n",
    "val_predictions = []\n",
    "for _ , row in val_data.iterrows():\n",
    "    pred = predict_sentiment(row['text'],row['source'])\n",
    "    val_predictions.append(pred)\n",
    "    \n",
    "    \n",
    "# print classification report \n",
    "print(classification_report(val_data['sentiment'],val_predictions ))\n",
    "accuracy_of_model2=accuracy_score(val_data['sentiment'],val_predictions)\n",
    "print(f\"accuracy_of_model2 : {accuracy_of_model2}\")"
   ]
  },
  {
   "cell_type": "code",
   "execution_count": 34,
   "metadata": {},
   "outputs": [
    {
     "data": {
      "image/png": "[encoded data removed]",
      "text/plain": [
       "<Figure size 640x480 with 2 Axes>"
      ]
     },
     "metadata": {},
     "output_type": "display_data"
    }
   ],
   "source": [
    "from sklearn.metrics import confusion_matrix\n",
    "import seaborn as sns\n",
    "import matplotlib.pyplot as plt \n",
    "cm = confusion_matrix(val_data['sentiment'],val_predictions)\n",
    "sns.heatmap(cm,annot=True)\n",
    "plt.title(\"confusion matrix\")\n",
    "plt.xlabel(\"actual value\")\n",
    "plt.ylabel(\"predicted value\")\n",
    "plt.show()"
   ]
  },
  {
   "cell_type": "code",
   "execution_count": 23,
   "metadata": {},
   "outputs": [
    {
     "name": "stdout",
     "output_type": "stream",
     "text": [
      "Requirement already satisfied: matplotlib in c:\\users\\pkkar\\anaconda3\\envs\\tenv\\lib\\site-packages (3.9.2)\n",
      "Requirement already satisfied: contourpy>=1.0.1 in c:\\users\\pkkar\\anaconda3\\envs\\tenv\\lib\\site-packages (from matplotlib) (1.3.1)\n",
      "Requirement already satisfied: cycler>=0.10 in c:\\users\\pkkar\\anaconda3\\envs\\tenv\\lib\\site-packages (from matplotlib) (0.12.1)\n",
      "Requirement already satisfied: fonttools>=4.22.0 in c:\\users\\pkkar\\anaconda3\\envs\\tenv\\lib\\site-packages (from matplotlib) (4.54.1)\n",
      "Requirement already satisfied: kiwisolver>=1.3.1 in c:\\users\\pkkar\\anaconda3\\envs\\tenv\\lib\\site-packages (from matplotlib) (1.4.7)\n",
      "Requirement already satisfied: numpy>=1.23 in c:\\users\\pkkar\\anaconda3\\envs\\tenv\\lib\\site-packages (from matplotlib) (2.1.1)\n",
      "Requirement already satisfied: packaging>=20.0 in c:\\users\\pkkar\\anaconda3\\envs\\tenv\\lib\\site-packages (from matplotlib) (24.1)\n",
      "Requirement already satisfied: pillow>=8 in c:\\users\\pkkar\\anaconda3\\envs\\tenv\\lib\\site-packages (from matplotlib) (10.4.0)\n",
      "Requirement already satisfied: pyparsing>=2.3.1 in c:\\users\\pkkar\\anaconda3\\envs\\tenv\\lib\\site-packages (from matplotlib) (3.2.0)\n",
      "Requirement already satisfied: python-dateutil>=2.7 in c:\\users\\pkkar\\anaconda3\\envs\\tenv\\lib\\site-packages (from matplotlib) (2.9.0)\n",
      "Requirement already satisfied: six>=1.5 in c:\\users\\pkkar\\anaconda3\\envs\\tenv\\lib\\site-packages (from python-dateutil>=2.7->matplotlib) (1.16.0)\n"
     ]
    }
   ],
   "source": [
    "! pip install matplotlib"
   ]
  },
  {
   "cell_type": "code",
   "execution_count": 27,
   "metadata": {},
   "outputs": [
    {
     "name": "stdout",
     "output_type": "stream",
     "text": [
      "\n",
      "Detailed Analysis:\n",
      "\n",
      "1. Validation Data Class Distribution:\n",
      "sentiment\n",
      "Neutral       285\n",
      "Positive      277\n",
      "Negative      266\n",
      "Irrelevant    172\n",
      "Name: count, dtype: int64\n",
      "\n",
      "2. Model Predictions Distribution:\n",
      "Positive      279\n",
      "Neutral       277\n",
      "Negative      275\n",
      "Irrelevant    169\n",
      "Name: count, dtype: int64\n"
     ]
    }
   ],
   "source": [
    "# Print detailed class distribution and model predictions\n",
    "print(\"\\nDetailed Analysis:\")\n",
    "print(\"\\n1. Validation Data Class Distribution:\")\n",
    "print(val_data['sentiment'].value_counts())\n",
    "\n",
    "print(\"\\n2. Model Predictions Distribution:\")\n",
    "print(pd.Series(val_predictions).value_counts())\n",
    "\n"
   ]
  },
  {
   "cell_type": "markdown",
   "metadata": {},
   "source": [
    "## Model 3 (Decision Tree Classifier)"
   ]
  },
  {
   "cell_type": "code",
   "execution_count": 30,
   "metadata": {},
   "outputs": [
    {
     "name": "stdout",
     "output_type": "stream",
     "text": [
      "training model for source: Borderlands\n",
      "training model for source: CallOfDutyBlackopsColdWar\n",
      "training model for source: Amazon\n",
      "training model for source: Overwatch\n",
      "training model for source: Xbox(Xseries)\n",
      "training model for source: NBA2K\n",
      "training model for source: Dota2\n",
      "training model for source: PlayStation5(PS5)\n",
      "training model for source: WorldOfCraft\n",
      "training model for source: CS-GO\n",
      "training model for source: Google\n",
      "training model for source: AssassinsCreed\n",
      "training model for source: ApexLegends\n",
      "training model for source: LeagueOfLegends\n",
      "training model for source: Fortnite\n",
      "training model for source: Microsoft\n",
      "training model for source: Hearthstone\n",
      "training model for source: Battlefield\n",
      "training model for source: PlayerUnknownsBattlegrounds(PUBG)\n",
      "training model for source: Verizon\n",
      "training model for source: HomeDepot\n",
      "training model for source: FIFA\n",
      "training model for source: RedDeadRedemption(RDR)\n",
      "training model for source: CallOfDuty\n",
      "training model for source: TomClancysRainbowSix\n",
      "training model for source: Facebook\n",
      "training model for source: GrandTheftAuto(GTA)\n",
      "training model for source: MaddenNFL\n",
      "training model for source: johnson&johnson\n",
      "training model for source: Cyberpunk2077\n",
      "training model for source: TomClancysGhostRecon\n",
      "training model for source: Nvidia\n",
      "training completed models saved in 'models3' directory \n"
     ]
    }
   ],
   "source": [
    "def train_source_model(source_data):\n",
    "    x= source_data['processed_text']\n",
    "    y= source_data['sentiment']\n",
    "    \n",
    "    \n",
    "    tfidf_vectorizer = TfidfVectorizer(max_features=5000)\n",
    "    x=tfidf_vectorizer.fit_transform(x)\n",
    "    \n",
    "    model3 = DecisionTreeClassifier()\n",
    "    model3.fit(x,y)\n",
    "    \n",
    "    return model3 , tfidf_vectorizer\n",
    "\n",
    "# train models for each source \n",
    "sources = train_data['source'].unique()\n",
    "\n",
    "if not os.path.exists('models3'):\n",
    "    os.makedirs('models3')\n",
    "    \n",
    "    \n",
    "for source in sources :\n",
    "    print(f\"training model for source: {source}\")\n",
    "    source_data = train_data[train_data['source']== source]\n",
    "    model , vectorizer = train_source_model(source_data)\n",
    "    \n",
    "    \n",
    "    # save the model and vectorizer \n",
    "    joblib.dump(model,f'models3/{source}_model.joblib')\n",
    "    joblib.dump(vectorizer,f'models3/{source}_vectorizer.joblib')\n",
    "    \n",
    "    \n",
    "    \n",
    "    \n",
    "print(\"training completed models saved in 'models3' directory \")"
   ]
  },
  {
   "cell_type": "code",
   "execution_count": 32,
   "metadata": {},
   "outputs": [
    {
     "name": "stdout",
     "output_type": "stream",
     "text": [
      "              precision    recall  f1-score   support\n",
      "\n",
      "  Irrelevant       0.96      0.91      0.93       172\n",
      "    Negative       0.88      0.95      0.92       266\n",
      "     Neutral       0.93      0.92      0.92       285\n",
      "    Positive       0.92      0.90      0.91       277\n",
      "\n",
      "    accuracy                           0.92      1000\n",
      "   macro avg       0.92      0.92      0.92      1000\n",
      "weighted avg       0.92      0.92      0.92      1000\n",
      "\n",
      "accuracy_of_model3 : 0.919\n"
     ]
    }
   ],
   "source": [
    "def predict_sentiment(text,source):\n",
    "    model = joblib.load(f'models3/{source}_model.joblib')\n",
    "    vectorizer = joblib.load(f'models3/{source}_vectorizer.joblib')\n",
    "    processed_text  = preprocess_text(text)\n",
    "    vectorized_text = vectorizer.transform([processed_text])\n",
    "    prediction = model.predict(vectorized_text)[0]\n",
    "    return prediction \n",
    "\n",
    "\n",
    "# Evaluate on validation set \n",
    "val_predictions = []\n",
    "for _ , row in val_data.iterrows():\n",
    "    pred = predict_sentiment(row['text'],row['source'])\n",
    "    val_predictions.append(pred)\n",
    "    \n",
    "    \n",
    "# print classification report \n",
    "print(classification_report(val_data['sentiment'],val_predictions ))\n",
    "accuracy_of_model3=accuracy_score(val_data['sentiment'],val_predictions)\n",
    "print(f\"accuracy_of_model3 : {accuracy_of_model3}\")"
   ]
  },
  {
   "cell_type": "code",
   "execution_count": 35,
   "metadata": {},
   "outputs": [
    {
     "data": {
      "image/png": "[encoded data removed]",
      "text/plain": [
       "<Figure size 640x480 with 2 Axes>"
      ]
     },
     "metadata": {},
     "output_type": "display_data"
    }
   ],
   "source": [
    "# confusion matrix\n",
    "from sklearn.metrics import confusion_matrix\n",
    "import seaborn as sns\n",
    "import matplotlib.pyplot as plt \n",
    "cm = confusion_matrix(val_data['sentiment'],val_predictions)\n",
    "sns.heatmap(cm,annot=True)\n",
    "plt.title(\"confusion matrix\")\n",
    "plt.xlabel(\"actual value\")\n",
    "plt.ylabel(\"predicted value\")\n",
    "plt.show()"
   ]
  },
  {
   "cell_type": "markdown",
   "metadata": {},
   "source": [
    "## Model 4 (KNN classifier)"
   ]
  },
  {
   "cell_type": "code",
   "execution_count": 40,
   "metadata": {},
   "outputs": [
    {
     "name": "stdout",
     "output_type": "stream",
     "text": [
      "training model for source: Borderlands\n",
      "training model for source: CallOfDutyBlackopsColdWar\n",
      "training model for source: Amazon\n",
      "training model for source: Overwatch\n",
      "training model for source: Xbox(Xseries)\n",
      "training model for source: NBA2K\n",
      "training model for source: Dota2\n",
      "training model for source: PlayStation5(PS5)\n",
      "training model for source: WorldOfCraft\n",
      "training model for source: CS-GO\n",
      "training model for source: Google\n",
      "training model for source: AssassinsCreed\n",
      "training model for source: ApexLegends\n",
      "training model for source: LeagueOfLegends\n",
      "training model for source: Fortnite\n",
      "training model for source: Microsoft\n",
      "training model for source: Hearthstone\n",
      "training model for source: Battlefield\n",
      "training model for source: PlayerUnknownsBattlegrounds(PUBG)\n",
      "training model for source: Verizon\n",
      "training model for source: HomeDepot\n",
      "training model for source: FIFA\n",
      "training model for source: RedDeadRedemption(RDR)\n",
      "training model for source: CallOfDuty\n",
      "training model for source: TomClancysRainbowSix\n",
      "training model for source: Facebook\n",
      "training model for source: GrandTheftAuto(GTA)\n",
      "training model for source: MaddenNFL\n",
      "training model for source: johnson&johnson\n",
      "training model for source: Cyberpunk2077\n",
      "training model for source: TomClancysGhostRecon\n",
      "training model for source: Nvidia\n",
      "training completed models saved in 'models4' directory \n"
     ]
    }
   ],
   "source": [
    "def train_source_model(source_data):\n",
    "    x= source_data['processed_text']\n",
    "    y= source_data['sentiment']\n",
    "    \n",
    "    \n",
    "    tfidf_vectorizer = TfidfVectorizer(max_features=5000)\n",
    "    x=tfidf_vectorizer.fit_transform(x)\n",
    "    \n",
    "    model4 = KNeighborsClassifier(n_neighbors=5,weights='uniform')\n",
    "    model4.fit(x,y)\n",
    "    \n",
    "    return model4 , tfidf_vectorizer\n",
    "\n",
    "# train models for each source \n",
    "sources = train_data['source'].unique()\n",
    "\n",
    "if not os.path.exists('models4'):\n",
    "    os.makedirs('models4')\n",
    "    \n",
    "    \n",
    "for source in sources :\n",
    "    print(f\"training model for source: {source}\")\n",
    "    source_data = train_data[train_data['source']== source]\n",
    "    model , vectorizer = train_source_model(source_data)\n",
    "    \n",
    "    \n",
    "    # save the model and vectorizer \n",
    "    joblib.dump(model,f'models4/{source}_model.joblib')\n",
    "    joblib.dump(vectorizer,f'models4/{source}_vectorizer.joblib')\n",
    "    \n",
    "    \n",
    "    \n",
    "    \n",
    "print(\"training completed models saved in 'models4' directory \")"
   ]
  },
  {
   "cell_type": "code",
   "execution_count": 41,
   "metadata": {},
   "outputs": [
    {
     "name": "stdout",
     "output_type": "stream",
     "text": [
      "              precision    recall  f1-score   support\n",
      "\n",
      "  Irrelevant       0.97      0.99      0.98       172\n",
      "    Negative       0.94      0.98      0.96       266\n",
      "     Neutral       0.99      0.95      0.97       285\n",
      "    Positive       0.99      0.97      0.98       277\n",
      "\n",
      "    accuracy                           0.97      1000\n",
      "   macro avg       0.97      0.97      0.97      1000\n",
      "weighted avg       0.97      0.97      0.97      1000\n",
      "\n",
      "accuracy_of_model4 : 0.971\n"
     ]
    }
   ],
   "source": [
    "def predict_sentiment(text,source):\n",
    "    model = joblib.load(f'models4/{source}_model.joblib')\n",
    "    vectorizer = joblib.load(f'models4/{source}_vectorizer.joblib')\n",
    "    processed_text  = preprocess_text(text)\n",
    "    vectorized_text = vectorizer.transform([processed_text])\n",
    "    prediction = model.predict(vectorized_text)[0]\n",
    "    return prediction \n",
    "\n",
    "\n",
    "# Evaluate on validation set \n",
    "val_predictions = []\n",
    "for _ , row in val_data.iterrows():\n",
    "    pred = predict_sentiment(row['text'],row['source'])\n",
    "    val_predictions.append(pred)\n",
    "    \n",
    "    \n",
    "# print classification report \n",
    "print(classification_report(val_data['sentiment'],val_predictions ))\n",
    "accuracy_of_model4=accuracy_score(val_data['sentiment'],val_predictions)\n",
    "print(f\"accuracy_of_model4 : {accuracy_of_model4}\")"
   ]
  },
  {
   "cell_type": "code",
   "execution_count": 42,
   "metadata": {},
   "outputs": [
    {
     "data": {
      "image/png": "[encoded data removed]",
      "text/plain": [
       "<Figure size 640x480 with 2 Axes>"
      ]
     },
     "metadata": {},
     "output_type": "display_data"
    }
   ],
   "source": [
    "# confusion matrix\n",
    "from sklearn.metrics import confusion_matrix\n",
    "import seaborn as sns\n",
    "import matplotlib.pyplot as plt \n",
    "cm = confusion_matrix(val_data['sentiment'],val_predictions)\n",
    "sns.heatmap(cm,annot=True)\n",
    "plt.title(\"confusion matrix\")\n",
    "plt.xlabel(\"actual value\")\n",
    "plt.ylabel(\"predicted value\")\n",
    "plt.show()"
   ]
  },
  {
   "cell_type": "markdown",
   "metadata": {},
   "source": [
    "## Model 5 (XGboost)"
   ]
  },
  {
   "cell_type": "code",
   "execution_count": 47,
   "metadata": {},
   "outputs": [
    {
     "name": "stdout",
     "output_type": "stream",
     "text": [
      "Collecting xgboost\n",
      "  Downloading xgboost-2.1.2-py3-none-win_amd64.whl.metadata (2.1 kB)\n",
      "Requirement already satisfied: numpy in c:\\users\\pkkar\\anaconda3\\envs\\tenv\\lib\\site-packages (from xgboost) (2.1.1)\n",
      "Requirement already satisfied: scipy in c:\\users\\pkkar\\anaconda3\\envs\\tenv\\lib\\site-packages (from xgboost) (1.14.1)\n",
      "Downloading xgboost-2.1.2-py3-none-win_amd64.whl (124.9 MB)\n",
      "   ---------------------------------------- 0.0/124.9 MB ? eta -:--:--\n",
      "   ---------------------------------------- 0.8/124.9 MB 4.8 MB/s eta 0:00:27\n",
      "    --------------------------------------- 2.1/124.9 MB 5.1 MB/s eta 0:00:25\n",
      "    --------------------------------------- 2.9/124.9 MB 5.2 MB/s eta 0:00:24\n",
      "   - -------------------------------------- 3.9/124.9 MB 4.8 MB/s eta 0:00:26\n",
      "   - -------------------------------------- 5.0/124.9 MB 4.9 MB/s eta 0:00:25\n",
      "   - -------------------------------------- 6.0/124.9 MB 4.9 MB/s eta 0:00:25\n",
      "   -- ------------------------------------- 6.8/124.9 MB 4.8 MB/s eta 0:00:25\n",
      "   -- ------------------------------------- 7.9/124.9 MB 4.7 MB/s eta 0:00:26\n",
      "   -- ------------------------------------- 8.7/124.9 MB 4.6 MB/s eta 0:00:26\n",
      "   --- ------------------------------------ 9.4/124.9 MB 4.6 MB/s eta 0:00:26\n",
      "   --- ------------------------------------ 10.5/124.9 MB 4.6 MB/s eta 0:00:25\n",
      "   --- ------------------------------------ 11.3/124.9 MB 4.5 MB/s eta 0:00:26\n",
      "   --- ------------------------------------ 12.3/124.9 MB 4.5 MB/s eta 0:00:25\n",
      "   ---- ----------------------------------- 13.1/124.9 MB 4.5 MB/s eta 0:00:26\n",
      "   ---- ----------------------------------- 14.2/124.9 MB 4.5 MB/s eta 0:00:25\n",
      "   ---- ----------------------------------- 15.2/124.9 MB 4.5 MB/s eta 0:00:25\n",
      "   ----- ---------------------------------- 16.3/124.9 MB 4.5 MB/s eta 0:00:24\n",
      "   ----- ---------------------------------- 17.3/124.9 MB 4.6 MB/s eta 0:00:24\n",
      "   ----- ---------------------------------- 18.4/124.9 MB 4.6 MB/s eta 0:00:24\n",
      "   ------ --------------------------------- 19.4/124.9 MB 4.6 MB/s eta 0:00:23\n",
      "   ------ --------------------------------- 20.7/124.9 MB 4.7 MB/s eta 0:00:23\n",
      "   ------ --------------------------------- 21.8/124.9 MB 4.7 MB/s eta 0:00:22\n",
      "   ------- -------------------------------- 22.8/124.9 MB 4.7 MB/s eta 0:00:22\n",
      "   ------- -------------------------------- 23.9/124.9 MB 4.7 MB/s eta 0:00:22\n",
      "   ------- -------------------------------- 24.9/124.9 MB 4.7 MB/s eta 0:00:22\n",
      "   -------- ------------------------------- 26.0/124.9 MB 4.8 MB/s eta 0:00:21\n",
      "   -------- ------------------------------- 27.3/124.9 MB 4.8 MB/s eta 0:00:21\n",
      "   -------- ------------------------------- 28.0/124.9 MB 4.8 MB/s eta 0:00:21\n",
      "   --------- ------------------------------ 29.1/124.9 MB 4.7 MB/s eta 0:00:21\n",
      "   --------- ------------------------------ 29.9/124.9 MB 4.7 MB/s eta 0:00:21\n",
      "   --------- ------------------------------ 30.9/124.9 MB 4.7 MB/s eta 0:00:20\n",
      "   ---------- ----------------------------- 31.7/124.9 MB 4.7 MB/s eta 0:00:20\n",
      "   ---------- ----------------------------- 32.2/124.9 MB 4.6 MB/s eta 0:00:21\n",
      "   ---------- ----------------------------- 33.3/124.9 MB 4.6 MB/s eta 0:00:20\n",
      "   ---------- ----------------------------- 34.3/124.9 MB 4.7 MB/s eta 0:00:20\n",
      "   ----------- ---------------------------- 35.7/124.9 MB 4.7 MB/s eta 0:00:20\n",
      "   ----------- ---------------------------- 36.7/124.9 MB 4.7 MB/s eta 0:00:19\n",
      "   ------------ --------------------------- 37.7/124.9 MB 4.7 MB/s eta 0:00:19\n",
      "   ------------ --------------------------- 38.5/124.9 MB 4.7 MB/s eta 0:00:19\n",
      "   ------------ --------------------------- 39.6/124.9 MB 4.7 MB/s eta 0:00:19\n",
      "   ------------ --------------------------- 40.1/124.9 MB 4.6 MB/s eta 0:00:19\n",
      "   ------------- -------------------------- 40.9/124.9 MB 4.6 MB/s eta 0:00:19\n",
      "   ------------- -------------------------- 41.9/124.9 MB 4.6 MB/s eta 0:00:19\n",
      "   ------------- -------------------------- 43.3/124.9 MB 4.6 MB/s eta 0:00:18\n",
      "   -------------- ------------------------- 44.3/124.9 MB 4.6 MB/s eta 0:00:18\n",
      "   -------------- ------------------------- 45.1/124.9 MB 4.6 MB/s eta 0:00:18\n",
      "   -------------- ------------------------- 45.9/124.9 MB 4.6 MB/s eta 0:00:18\n",
      "   -------------- ------------------------- 46.7/124.9 MB 4.6 MB/s eta 0:00:18\n",
      "   --------------- ------------------------ 47.4/124.9 MB 4.6 MB/s eta 0:00:17\n",
      "   --------------- ------------------------ 48.2/124.9 MB 4.5 MB/s eta 0:00:17\n",
      "   --------------- ------------------------ 49.3/124.9 MB 4.5 MB/s eta 0:00:17\n",
      "   --------------- ------------------------ 49.5/124.9 MB 4.5 MB/s eta 0:00:17\n",
      "   ---------------- ----------------------- 50.3/124.9 MB 4.5 MB/s eta 0:00:17\n",
      "   ---------------- ----------------------- 50.9/124.9 MB 4.5 MB/s eta 0:00:17\n",
      "   ---------------- ----------------------- 51.9/124.9 MB 4.4 MB/s eta 0:00:17\n",
      "   ---------------- ----------------------- 53.0/124.9 MB 4.5 MB/s eta 0:00:17\n",
      "   ----------------- ---------------------- 54.0/124.9 MB 4.5 MB/s eta 0:00:16\n",
      "   ----------------- ---------------------- 55.1/124.9 MB 4.5 MB/s eta 0:00:16\n",
      "   ----------------- ---------------------- 56.1/124.9 MB 4.5 MB/s eta 0:00:16\n",
      "   ------------------ --------------------- 57.1/124.9 MB 4.5 MB/s eta 0:00:16\n",
      "   ------------------ --------------------- 57.9/124.9 MB 4.5 MB/s eta 0:00:15\n",
      "   ------------------ --------------------- 59.0/124.9 MB 4.5 MB/s eta 0:00:15\n",
      "   ------------------- -------------------- 60.0/124.9 MB 4.5 MB/s eta 0:00:15\n",
      "   ------------------- -------------------- 60.8/124.9 MB 4.5 MB/s eta 0:00:15\n",
      "   ------------------- -------------------- 61.9/124.9 MB 4.5 MB/s eta 0:00:15\n",
      "   -------------------- ------------------- 62.7/124.9 MB 4.5 MB/s eta 0:00:14\n",
      "   -------------------- ------------------- 63.7/124.9 MB 4.5 MB/s eta 0:00:14\n",
      "   -------------------- ------------------- 64.7/124.9 MB 4.5 MB/s eta 0:00:14\n",
      "   -------------------- ------------------- 65.5/124.9 MB 4.5 MB/s eta 0:00:14\n",
      "   --------------------- ------------------ 66.6/124.9 MB 4.5 MB/s eta 0:00:14\n",
      "   --------------------- ------------------ 67.4/124.9 MB 4.5 MB/s eta 0:00:13\n",
      "   --------------------- ------------------ 68.4/124.9 MB 4.5 MB/s eta 0:00:13\n",
      "   ---------------------- ----------------- 69.5/124.9 MB 4.5 MB/s eta 0:00:13\n",
      "   ---------------------- ----------------- 70.5/124.9 MB 4.5 MB/s eta 0:00:13\n",
      "   ---------------------- ----------------- 71.6/124.9 MB 4.5 MB/s eta 0:00:12\n",
      "   ----------------------- ---------------- 72.6/124.9 MB 4.5 MB/s eta 0:00:12\n",
      "   ----------------------- ---------------- 73.7/124.9 MB 4.5 MB/s eta 0:00:12\n",
      "   ----------------------- ---------------- 74.7/124.9 MB 4.5 MB/s eta 0:00:12\n",
      "   ------------------------ --------------- 75.5/124.9 MB 4.5 MB/s eta 0:00:12\n",
      "   ------------------------ --------------- 76.5/124.9 MB 4.5 MB/s eta 0:00:11\n",
      "   ------------------------ --------------- 77.6/124.9 MB 4.5 MB/s eta 0:00:11\n",
      "   ------------------------- -------------- 78.6/124.9 MB 4.5 MB/s eta 0:00:11\n",
      "   ------------------------- -------------- 79.2/124.9 MB 4.5 MB/s eta 0:00:11\n",
      "   ------------------------- -------------- 80.2/124.9 MB 4.5 MB/s eta 0:00:10\n",
      "   ------------------------- -------------- 81.0/124.9 MB 4.5 MB/s eta 0:00:10\n",
      "   -------------------------- ------------- 81.8/124.9 MB 4.5 MB/s eta 0:00:10\n",
      "   -------------------------- ------------- 82.8/124.9 MB 4.5 MB/s eta 0:00:10\n",
      "   -------------------------- ------------- 84.1/124.9 MB 4.5 MB/s eta 0:00:10\n",
      "   --------------------------- ------------ 85.2/124.9 MB 4.5 MB/s eta 0:00:09\n",
      "   --------------------------- ------------ 86.2/124.9 MB 4.5 MB/s eta 0:00:09\n",
      "   --------------------------- ------------ 87.0/124.9 MB 4.5 MB/s eta 0:00:09\n",
      "   ---------------------------- ----------- 87.6/124.9 MB 4.5 MB/s eta 0:00:09\n",
      "   ---------------------------- ----------- 88.3/124.9 MB 4.5 MB/s eta 0:00:09\n",
      "   ---------------------------- ----------- 89.1/124.9 MB 4.5 MB/s eta 0:00:09\n",
      "   ---------------------------- ----------- 90.2/124.9 MB 4.5 MB/s eta 0:00:08\n",
      "   ----------------------------- ---------- 91.2/124.9 MB 4.5 MB/s eta 0:00:08\n",
      "   ----------------------------- ---------- 92.3/124.9 MB 4.5 MB/s eta 0:00:08\n",
      "   ----------------------------- ---------- 93.3/124.9 MB 4.5 MB/s eta 0:00:08\n",
      "   ------------------------------ --------- 94.4/124.9 MB 4.5 MB/s eta 0:00:07\n",
      "   ------------------------------ --------- 95.2/124.9 MB 4.5 MB/s eta 0:00:07\n",
      "   ------------------------------ --------- 96.2/124.9 MB 4.5 MB/s eta 0:00:07\n",
      "   ------------------------------- -------- 97.3/124.9 MB 4.5 MB/s eta 0:00:07\n",
      "   ------------------------------- -------- 98.0/124.9 MB 4.5 MB/s eta 0:00:07\n",
      "   ------------------------------- -------- 98.8/124.9 MB 4.5 MB/s eta 0:00:06\n",
      "   ------------------------------- -------- 99.9/124.9 MB 4.5 MB/s eta 0:00:06\n",
      "   -------------------------------- ------- 100.9/124.9 MB 4.5 MB/s eta 0:00:06\n",
      "   -------------------------------- ------- 101.7/124.9 MB 4.5 MB/s eta 0:00:06\n",
      "   -------------------------------- ------- 102.5/124.9 MB 4.5 MB/s eta 0:00:06\n",
      "   --------------------------------- ------ 103.3/124.9 MB 4.4 MB/s eta 0:00:05\n",
      "   --------------------------------- ------ 104.1/124.9 MB 4.4 MB/s eta 0:00:05\n",
      "   --------------------------------- ------ 104.9/124.9 MB 4.4 MB/s eta 0:00:05\n",
      "   --------------------------------- ------ 105.9/124.9 MB 4.4 MB/s eta 0:00:05\n",
      "   ---------------------------------- ----- 107.0/124.9 MB 4.4 MB/s eta 0:00:05\n",
      "   ---------------------------------- ----- 108.0/124.9 MB 4.4 MB/s eta 0:00:04\n",
      "   ----------------------------------- ---- 109.3/124.9 MB 4.5 MB/s eta 0:00:04\n",
      "   ----------------------------------- ---- 110.4/124.9 MB 4.5 MB/s eta 0:00:04\n",
      "   ----------------------------------- ---- 111.1/124.9 MB 4.5 MB/s eta 0:00:04\n",
      "   ----------------------------------- ---- 112.2/124.9 MB 4.5 MB/s eta 0:00:03\n",
      "   ------------------------------------ --- 112.7/124.9 MB 4.4 MB/s eta 0:00:03\n",
      "   ------------------------------------ --- 113.5/124.9 MB 4.4 MB/s eta 0:00:03\n",
      "   ------------------------------------ --- 114.0/124.9 MB 4.4 MB/s eta 0:00:03\n",
      "   ------------------------------------ --- 114.6/124.9 MB 4.4 MB/s eta 0:00:03\n",
      "   ------------------------------------ --- 114.8/124.9 MB 4.4 MB/s eta 0:00:03\n",
      "   ------------------------------------ --- 115.3/124.9 MB 4.4 MB/s eta 0:00:03\n",
      "   ------------------------------------- -- 115.9/124.9 MB 4.3 MB/s eta 0:00:03\n",
      "   ------------------------------------- -- 116.4/124.9 MB 4.3 MB/s eta 0:00:02\n",
      "   ------------------------------------- -- 116.9/124.9 MB 4.3 MB/s eta 0:00:02\n",
      "   ------------------------------------- -- 118.0/124.9 MB 4.3 MB/s eta 0:00:02\n",
      "   -------------------------------------- - 119.0/124.9 MB 4.3 MB/s eta 0:00:02\n",
      "   -------------------------------------- - 120.1/124.9 MB 4.3 MB/s eta 0:00:02\n",
      "   -------------------------------------- - 121.1/124.9 MB 4.3 MB/s eta 0:00:01\n",
      "   ---------------------------------------  121.9/124.9 MB 4.3 MB/s eta 0:00:01\n",
      "   ---------------------------------------  122.4/124.9 MB 4.3 MB/s eta 0:00:01\n",
      "   ---------------------------------------  122.9/124.9 MB 4.3 MB/s eta 0:00:01\n",
      "   ---------------------------------------  123.5/124.9 MB 4.3 MB/s eta 0:00:01\n",
      "   ---------------------------------------  124.0/124.9 MB 4.3 MB/s eta 0:00:01\n",
      "   ---------------------------------------  124.5/124.9 MB 4.3 MB/s eta 0:00:01\n",
      "   ---------------------------------------  124.8/124.9 MB 4.3 MB/s eta 0:00:01\n",
      "   ---------------------------------------- 124.9/124.9 MB 4.2 MB/s eta 0:00:00\n",
      "Installing collected packages: xgboost\n",
      "Successfully installed xgboost-2.1.2\n"
     ]
    }
   ],
   "source": [
    "! pip install xgboost"
   ]
  },
  {
   "cell_type": "code",
   "execution_count": 48,
   "metadata": {},
   "outputs": [],
   "source": [
    "from xgboost import XGBClassifier"
   ]
  },
  {
   "cell_type": "code",
   "execution_count": 51,
   "metadata": {},
   "outputs": [],
   "source": [
    "from sklearn.preprocessing import LabelEncoder\n",
    "encoder = LabelEncoder()"
   ]
  },
  {
   "cell_type": "code",
   "execution_count": 54,
   "metadata": {},
   "outputs": [
    {
     "name": "stdout",
     "output_type": "stream",
     "text": [
      "training model for source: Borderlands\n",
      "training model for source: CallOfDutyBlackopsColdWar\n",
      "training model for source: Amazon\n",
      "training model for source: Overwatch\n",
      "training model for source: Xbox(Xseries)\n",
      "training model for source: NBA2K\n",
      "training model for source: Dota2\n",
      "training model for source: PlayStation5(PS5)\n",
      "training model for source: WorldOfCraft\n",
      "training model for source: CS-GO\n",
      "training model for source: Google\n",
      "training model for source: AssassinsCreed\n",
      "training model for source: ApexLegends\n",
      "training model for source: LeagueOfLegends\n",
      "training model for source: Fortnite\n",
      "training model for source: Microsoft\n",
      "training model for source: Hearthstone\n",
      "training model for source: Battlefield\n",
      "training model for source: PlayerUnknownsBattlegrounds(PUBG)\n",
      "training model for source: Verizon\n",
      "training model for source: HomeDepot\n",
      "training model for source: FIFA\n",
      "training model for source: RedDeadRedemption(RDR)\n",
      "training model for source: CallOfDuty\n",
      "training model for source: TomClancysRainbowSix\n",
      "training model for source: Facebook\n",
      "training model for source: GrandTheftAuto(GTA)\n",
      "training model for source: MaddenNFL\n",
      "training model for source: johnson&johnson\n",
      "training model for source: Cyberpunk2077\n",
      "training model for source: TomClancysGhostRecon\n",
      "training model for source: Nvidia\n",
      "training completed models saved in 'models5' directory \n"
     ]
    }
   ],
   "source": [
    "def train_source_model(source_data):\n",
    "    x= source_data['processed_text']\n",
    "    y= encoder.fit_transform(source_data['sentiment'])\n",
    "    \n",
    "    \n",
    "    tfidf_vectorizer = TfidfVectorizer(max_features=5000)\n",
    "    x=tfidf_vectorizer.fit_transform(x)\n",
    "    \n",
    "    model5 = XGBClassifier()\n",
    "    model5.fit(x,y)\n",
    "    \n",
    "    return model5 , tfidf_vectorizer\n",
    "\n",
    "# train models for each source \n",
    "sources = train_data['source'].unique()\n",
    "\n",
    "if not os.path.exists('models5'):\n",
    "    os.makedirs('models5')\n",
    "    \n",
    "    \n",
    "for source in sources :\n",
    "    print(f\"training model for source: {source}\")\n",
    "    source_data = train_data[train_data['source']== source]\n",
    "    model , vectorizer = train_source_model(source_data)\n",
    "    \n",
    "    \n",
    "    # save the model and vectorizer \n",
    "    joblib.dump(model,f'models5/{source}_model.joblib')\n",
    "    joblib.dump(vectorizer,f'models5/{source}_vectorizer.joblib')\n",
    "    \n",
    "    \n",
    "    \n",
    "    \n",
    "print(\"training completed models saved in 'models5' directory \")"
   ]
  },
  {
   "cell_type": "code",
   "execution_count": 62,
   "metadata": {},
   "outputs": [
    {
     "name": "stdout",
     "output_type": "stream",
     "text": [
      "              precision    recall  f1-score   support\n",
      "\n",
      "           0       0.98      0.97      0.97       172\n",
      "           1       0.97      0.98      0.98       266\n",
      "           2       0.97      0.95      0.96       285\n",
      "           3       0.95      0.97      0.96       277\n",
      "\n",
      "    accuracy                           0.97      1000\n",
      "   macro avg       0.97      0.97      0.97      1000\n",
      "weighted avg       0.97      0.97      0.97      1000\n",
      "\n",
      "accuracy_of_model5 : 0.968\n"
     ]
    }
   ],
   "source": [
    "def predict_sentiment(text,source):\n",
    "    model = joblib.load(f'models5/{source}_model.joblib')\n",
    "    vectorizer = joblib.load(f'models5/{source}_vectorizer.joblib')\n",
    "    processed_text  = preprocess_text(text)\n",
    "    vectorized_text = vectorizer.transform([processed_text])\n",
    "    prediction = model.predict(vectorized_text)[0]\n",
    "    return prediction \n",
    "\n",
    "\n",
    "# Evaluate on validation set \n",
    "val_predictions = []\n",
    "for _ , row in val_data.iterrows():\n",
    "    pred = predict_sentiment(row['text'],row['source'])\n",
    "    val_predictions.append(pred)\n",
    "    \n",
    "    \n",
    "# print classification report \n",
    "print(classification_report(encoder.fit_transform(val_data['sentiment']),val_predictions ))\n",
    "accuracy_of_model5=accuracy_score(encoder.fit_transform(val_data['sentiment']),val_predictions)\n",
    "print(f\"accuracy_of_model5 : {accuracy_of_model5}\")"
   ]
  },
  {
   "cell_type": "code",
   "execution_count": 63,
   "metadata": {},
   "outputs": [
    {
     "data": {
      "image/png": "[encoded data removed]",
      "text/plain": [
       "<Figure size 640x480 with 2 Axes>"
      ]
     },
     "metadata": {},
     "output_type": "display_data"
    }
   ],
   "source": [
    "# confusion matrix\n",
    "from sklearn.metrics import confusion_matrix\n",
    "import seaborn as sns\n",
    "import matplotlib.pyplot as plt \n",
    "cm = confusion_matrix(encoder.fit_transform(val_data['sentiment']),val_predictions)\n",
    "sns.heatmap(cm,annot=True)\n",
    "plt.title(\"confusion matrix\")\n",
    "plt.xlabel(\"actual value\")\n",
    "plt.ylabel(\"predicted value\")\n",
    "plt.show()"
   ]
  },
  {
   "cell_type": "markdown",
   "metadata": {},
   "source": [
    "### Result Analysis "
   ]
  },
  {
   "cell_type": "code",
   "execution_count": 3,
   "metadata": {},
   "outputs": [
    {
     "data": {
      "image/png": "[encoded data removed]",
      "text/plain": [
       "<Figure size 1000x600 with 1 Axes>"
      ]
     },
     "metadata": {},
     "output_type": "display_data"
    }
   ],
   "source": [
    "import matplotlib.pyplot as plt\n",
    "import seaborn as sns\n",
    "\n",
    "# Data\n",
    "x = [\"Linear SVC\", \"Random Forest\", \"Decision Tree\", \"KNN\", \"XGBoost\"]\n",
    "y = [0.986, 0.967, 0.919, 0.971, 0.968]\n",
    "\n",
    "# Create figure with larger size and higher DPI for better quality\n",
    "plt.figure(figsize=(10, 6), dpi=100)\n",
    "\n",
    "# Create bar plot\n",
    "bars = plt.bar(x, y, color=sns.color_palette(\"husl\", len(x)))\n",
    "\n",
    "# Customize plot\n",
    "plt.title('Model Accuracy Comparison', fontsize=14, pad=20)\n",
    "plt.xlabel('Models', fontsize=12)\n",
    "plt.ylabel('Accuracy', fontsize=12)\n",
    "\n",
    "# Add grid for better readability\n",
    "plt.grid(axis='y', linestyle='--', alpha=0.7)\n",
    "\n",
    "# Set y-axis limits to better show differences\n",
    "plt.ylim(0.9, 1.0)\n",
    "\n",
    "# Add value labels on top of each bar\n",
    "for bar in bars:\n",
    "    height = bar.get_height()\n",
    "    plt.text(bar.get_x() + bar.get_width()/2., height,\n",
    "             f'{height:.3f}',\n",
    "             ha='center', va='bottom')\n",
    "\n",
    "# Rotate x-labels for better readability\n",
    "plt.xticks(rotation=45)\n",
    "\n",
    "# Adjust layout to prevent label cutoff\n",
    "plt.tight_layout()\n",
    "\n",
    "# Show plot\n",
    "plt.show()"
   ]
  },
  {
   "cell_type": "markdown",
   "metadata": {},
   "source": [
    "## **Project End** "
   ]
  },
  {
   "cell_type": "code",
   "execution_count": null,
   "metadata": {},
   "outputs": [],
   "source": []
  }
 ],
 "metadata": {
  "kernelspec": {
   "display_name": "tenv",
   "language": "python",
   "name": "python3"
  },
  "language_info": {
   "codemirror_mode": {
    "name": "ipython",
    "version": 3
   },
   "file_extension": ".py",
   "mimetype": "text/x-python",
   "name": "python",
   "nbconvert_exporter": "python",
   "pygments_lexer": "ipython3",
   "version": "3.12.5"
  }
 },
 "nbformat": 4,
 "nbformat_minor": 2
}
